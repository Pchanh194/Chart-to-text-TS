{
 "cells": [
  {
   "cell_type": "code",
   "execution_count": null,
   "metadata": {},
   "outputs": [],
   "source": [
    "import json\n",
    "import pandas as pd\n",
    "\n",
    "def process_json(file_path):\n",
    "    # Đọc file JSON\n",
    "    with open(file_path, 'r') as file:\n",
    "        json_data = json.load(file)\n",
    "\n",
    "    # Danh sách các keys không cần xử lý\n",
    "    ignored_keys = ['schedule', 'thermal_comfort_data', 'issues_count', 'potential_savings']\n",
    "\n",
    "    # Tạo danh sách DataFrame tạm thời\n",
    "    dfs = []\n",
    "\n",
    "    # Duyệt qua từng key trong dữ liệu JSON\n",
    "    for key, value in json_data.items():\n",
    "        if key in ignored_keys or not isinstance(value, dict):\n",
    "            continue\n",
    "\n",
    "        # Tạo DataFrame từ từng phần của JSON\n",
    "        for subkey, subvalue in value.items():\n",
    "            if isinstance(subvalue, dict):\n",
    "                temp_df = pd.DataFrame.from_dict(subvalue, orient='index')\n",
    "                temp_df.index.name = 'timestamp'\n",
    "                temp_df.reset_index(inplace=True)\n",
    "                temp_df.columns = ['timestamp', f'{key}_{subkey}']\n",
    "                dfs.append(temp_df)\n",
    "\n",
    "    # Hợp nhất các DataFrame tạm thời dựa trên cột timestamp\n",
    "    final_df = dfs[0]\n",
    "    for df in dfs[1:]:\n",
    "        final_df = pd.merge(final_df, df, on='timestamp', how='outer')\n",
    "\n",
    "    return final_df\n"
   ]
  },
  {
   "cell_type": "code",
   "execution_count": null,
   "metadata": {},
   "outputs": [],
   "source": [
    "# Áp dụng cho file data_prepare_1.json\n",
    "file_path_1 = '../dataset/data_prepare_2.json'\n",
    "df1 = process_json(file_path_1)\n",
    "\n",
    "# Áp dụng cho file data_prepare_8.json\n",
    "file_path_8 = '../dataset/data_prepare_8.json'\n",
    "df8 = process_json(file_path_8)"
   ]
  },
  {
   "cell_type": "code",
   "execution_count": null,
   "metadata": {},
   "outputs": [],
   "source": [
    "# Hiển thị DataFrame đầu tiên để kiểm tra\n",
    "df1.head()"
   ]
  },
  {
   "cell_type": "code",
   "execution_count": null,
   "metadata": {},
   "outputs": [],
   "source": [
    "df8.head()"
   ]
  },
  {
   "cell_type": "code",
   "execution_count": null,
   "metadata": {},
   "outputs": [],
   "source": [
    "parquet_file_path = '../dataset/data_prepare_2.parquet'\n",
    "df1.to_parquet(parquet_file_path, index=False)"
   ]
  },
  {
   "cell_type": "code",
   "execution_count": null,
   "metadata": {},
   "outputs": [],
   "source": [
    "parquet_file_path = '../dataset/data_prepare_8.parquet'\n",
    "df8.to_parquet(parquet_file_path, index=False)"
   ]
  }
 ],
 "metadata": {
  "kernelspec": {
   "display_name": "chart2text",
   "language": "python",
   "name": "python3"
  },
  "language_info": {
   "name": "python",
   "version": "3.9.18"
  }
 },
 "nbformat": 4,
 "nbformat_minor": 2
}
